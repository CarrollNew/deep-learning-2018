{
 "cells": [
  {
   "cell_type": "code",
   "execution_count": 82,
   "metadata": {},
   "outputs": [],
   "source": [
    "import torch \n",
    "import torch.nn as nn\n",
    "import torchvision.datasets as dsets\n",
    "import torchvision.transforms as transforms\n",
    "from torch.autograd import Variable\n",
    "import pandas as pd;\n",
    "import numpy as np;\n",
    "from torch.utils.data import Dataset, DataLoader\n",
    "import random;\n",
    "import math;\n",
    "import matplotlib.pyplot as plt\n",
    "\n",
    "\n",
    "torch.manual_seed(12)\n",
    "np.random.seed(12)\n",
    "random.seed(12)\n",
    "\n",
    "num_epochs = 20\n",
    "batch_size = 50\n",
    "learning_rate = 0.1"
   ]
  },
  {
   "cell_type": "code",
   "execution_count": 83,
   "metadata": {},
   "outputs": [
    {
     "name": "stdout",
     "output_type": "stream",
     "text": [
      "data downloaded\n"
     ]
    }
   ],
   "source": [
    "# DATA LOADING\n",
    "train_dataset = dsets.FashionMNIST(root='downloaded',\n",
    "                                    train=True,\n",
    "                                    transform=transforms.Compose([transforms.RandomHorizontalFlip(),\n",
    "                                                                  transforms.ToTensor()]),\n",
    "                                    download=False)\n",
    "\n",
    "test_dataset = dsets.FashionMNIST(root='downloaded', \n",
    "                                     train=False, \n",
    "                                     transform=transforms.Compose([transforms.RandomHorizontalFlip(),\n",
    "                                                                  transforms.ToTensor()]),\n",
    "                                     download=False)\n",
    "\n",
    "train_loader = torch.utils.data.DataLoader(dataset=train_dataset,\n",
    "                                           batch_size=batch_size,\n",
    "                                           shuffle=True);\n",
    "\n",
    "test_loader = torch.utils.data.DataLoader(dataset=test_dataset,\n",
    "                                          batch_size=batch_size,\n",
    "                                          shuffle=True);\n",
    "\n",
    "\n",
    "labels_map = {0 : 'T-Shirt', 1 : 'Trouser', 2 : 'Pullover', 3 : 'Dress', 4 : 'Coat', 5 : 'Sandal', 6 : 'Shirt',\n",
    "              7 : 'Sneaker', 8 : 'Bag', 9 : 'Ankle Boot'};\n",
    "\n",
    "print('data downloaded')"
   ]
  },
  {
   "cell_type": "code",
   "execution_count": 84,
   "metadata": {},
   "outputs": [],
   "source": [
    "def data_visualization(wrong_predicted_indices, batch_index, predicted):\n",
    "    fig = plt.figure(figsize=(8,8));\n",
    "    columns = 5;\n",
    "    rows = len(wrong_predicted_indices) // 5 + 1;\n",
    "    for i, index in enumerate(wrong_predicted_indices):\n",
    "        img = test_dataset.test_data[(batch_index * batch_size + index).item()].numpy()\n",
    "        fig.add_subplot(rows, columns, i + 1)\n",
    "        plt.title(labels_map[predicted[index].item()])\n",
    "        plt.axis('off')\n",
    "        plt.imshow(img, cmap='gray')\n",
    "    plt.show()"
   ]
  },
  {
   "cell_type": "code",
   "execution_count": 85,
   "metadata": {},
   "outputs": [],
   "source": [
    "class SimpleConvNet(torch.nn.Module):\n",
    "    def __init__(self):\n",
    "        super(SimpleConvNet, self).__init__()\n",
    "        self.layer1 = torch.nn.Sequential(\n",
    "            torch.nn.Conv2d(1, 16, kernel_size=5, stride=1, padding=2),\n",
    "            torch.nn.BatchNorm2d(16),\n",
    "            torch.nn.ReLU(),\n",
    "            torch.nn.MaxPool2d(kernel_size=2, stride=2))\n",
    "        self.layer2 = torch.nn.Sequential(\n",
    "            torch.nn.Conv2d(16, 32, kernel_size=5, stride=1, padding=2),\n",
    "            torch.nn.BatchNorm2d(32),\n",
    "            torch.nn.ReLU(),\n",
    "            torch.nn.MaxPool2d(kernel_size=2, stride=2))\n",
    "        self.layer3 = torch.nn.Sequential(\n",
    "            torch.nn.Conv2d(32, 64, kernel_size=5, stride=1, padding=2),\n",
    "            torch.nn.BatchNorm2d(64),\n",
    "            torch.nn.ReLU(),\n",
    "            torch.nn.MaxPool2d(kernel_size=2, stride=2))\n",
    "        self.fnn = torch.nn.Linear(3*3*64, 10)\n",
    "        \n",
    "    def forward(self, x):\n",
    "        out = self.layer1(x)\n",
    "        out = self.layer2(out)\n",
    "        out = self.layer3(out)\n",
    "        out = out.reshape(out.size(0), -1)\n",
    "        out = self.fnn(out)\n",
    "        return out"
   ]
  },
  {
   "cell_type": "code",
   "execution_count": 86,
   "metadata": {},
   "outputs": [],
   "source": [
    "def train_model(model, optimizer, epoch):\n",
    "    criterion = torch.nn.CrossEntropyLoss()\n",
    "    model.train()\n",
    " \n",
    "    total = len(train_dataset)    \n",
    "    correct = 0\n",
    "    \n",
    "    for batch_index, (images, labels) in enumerate(train_loader):\n",
    "        images = Variable(images.float())\n",
    "        labels = Variable(labels)\n",
    "        outputs = model(images)\n",
    "        _, predicted = torch.max(outputs.data, 1)\n",
    "        correct += (predicted == labels).sum()\n",
    "        loss = criterion(outputs, labels)        \n",
    "        optimizer.zero_grad()\n",
    "        loss.backward()\n",
    "        optimizer.step()\n",
    "        \n",
    "    acc = 100 * correct / total\n",
    "    print('model trained', epoch)\n",
    "    return loss, acc"
   ]
  },
  {
   "cell_type": "code",
   "execution_count": 87,
   "metadata": {},
   "outputs": [],
   "source": [
    "def test_model(model):\n",
    "    model.eval()\n",
    "    correct = 0\n",
    "    total = 0\n",
    "    with torch.no_grad():\n",
    "        for batch_index, (images, labels) in enumerate(test_loader):\n",
    "            images = Variable(images.float())\n",
    "            outputs = model(images)\n",
    "            _, predicted = torch.max(outputs.data, 1)\n",
    "            total += labels.size(0)\n",
    "            correct += (predicted == labels).sum()\n",
    "            wrong_predicted_indices = torch.nonzero(torch.where(predicted != labels, \n",
    "                                                        torch.ones_like(predicted),\n",
    "                                                        torch.zeros_like(predicted)))\n",
    "            # data_visualization(wrong_predicted_indices, batch_index, predicted)\n",
    "    return 100 * correct / total"
   ]
  },
  {
   "cell_type": "code",
   "execution_count": 88,
   "metadata": {},
   "outputs": [
    {
     "name": "stdout",
     "output_type": "stream",
     "text": [
      "cnn created\n",
      "model trained 0\n",
      "model trained 1\n",
      "model trained 2\n",
      "model trained 3\n",
      "model trained 4\n",
      "model trained 5\n",
      "model trained 6\n",
      "model trained 7\n",
      "model trained 8\n",
      "model trained 9\n",
      "model trained 10\n",
      "model trained 11\n",
      "model trained 12\n",
      "model trained 13\n",
      "model trained 14\n",
      "model trained 15\n",
      "model trained 16\n",
      "model trained 17\n",
      "model trained 18\n",
      "model trained 19\n"
     ]
    },
    {
     "data": {
      "image/png": "[encoded data removed]",
      "text/plain": [
       "<matplotlib.figure.Figure at 0x7f70b3bd7630>"
      ]
     },
     "metadata": {},
     "output_type": "display_data"
    }
   ],
   "source": [
    "cnn_model = SimpleConvNet()\n",
    "cnn_model_optimizer = torch.optim.SGD(cnn_model.parameters(), lr=learning_rate)\n",
    "print('cnn created')\n",
    "    \n",
    "train_losses = []\n",
    "train_accuracy = []\n",
    "test_accuracy = []\n",
    "for epoch in range(num_epochs):\n",
    "    loss, acc = train_model(cnn_model, cnn_model_optimizer, epoch)\n",
    "    train_losses.append(loss)\n",
    "    train_accuracy.append(acc)\n",
    "    test_acc = test_model(cnn_model)\n",
    "    test_accuracy.append(test_acc)\n",
    "    \n",
    "x = [i for i in range(num_epochs)]\n",
    "plt.title('loss')\n",
    "plt.plot(x, train_losses)\n",
    "plt.show()   "
   ]
  },
  {
   "cell_type": "code",
   "execution_count": 89,
   "metadata": {},
   "outputs": [
    {
     "data": {
      "image/png": "[encoded data removed]",
      "text/plain": [
       "<matplotlib.figure.Figure at 0x7f70b38ae518>"
      ]
     },
     "metadata": {},
     "output_type": "display_data"
    }
   ],
   "source": [
    "plt.title('train accuracy')\n",
    "plt.plot(x, train_accuracy)\n",
    "plt.show()"
   ]
  },
  {
   "cell_type": "code",
   "execution_count": 90,
   "metadata": {},
   "outputs": [
    {
     "data": {
      "image/png": "[encoded data removed]",
      "text/plain": [
       "<matplotlib.figure.Figure at 0x7f70b3903b00>"
      ]
     },
     "metadata": {},
     "output_type": "display_data"
    }
   ],
   "source": [
    "plt.title('test accuracy')\n",
    "plt.plot(x, test_accuracy)\n",
    "plt.show()"
   ]
  },
  {
   "cell_type": "code",
   "execution_count": null,
   "metadata": {},
   "outputs": [],
   "source": []
  }
 ],
 "metadata": {
  "kernelspec": {
   "display_name": "Python 3",
   "language": "python",
   "name": "python3"
  },
  "language_info": {
   "codemirror_mode": {
    "name": "ipython",
    "version": 3
   },
   "file_extension": ".py",
   "mimetype": "text/x-python",
   "name": "python",
   "nbconvert_exporter": "python",
   "pygments_lexer": "ipython3",
   "version": "3.6.3"
  }
 },
 "nbformat": 4,
 "nbformat_minor": 2
}
